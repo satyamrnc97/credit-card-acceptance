{
 "cells": [
  {
   "cell_type": "markdown",
   "metadata": {},
   "source": [
    "### NAIVE BAYES"
   ]
  },
  {
   "cell_type": "markdown",
   "metadata": {},
   "source": [
    "#### Importing Modules"
   ]
  },
  {
   "cell_type": "code",
   "execution_count": 1,
   "metadata": {},
   "outputs": [],
   "source": [
    "import pandas as pd\n",
    "import numpy as np\n",
    "from sklearn.model_selection import train_test_split"
   ]
  },
  {
   "cell_type": "markdown",
   "metadata": {},
   "source": [
    "#### Loading Dataset"
   ]
  },
  {
   "cell_type": "code",
   "execution_count": 2,
   "metadata": {},
   "outputs": [
    {
     "data": {
      "text/html": [
       "<div>\n",
       "<style scoped>\n",
       "    .dataframe tbody tr th:only-of-type {\n",
       "        vertical-align: middle;\n",
       "    }\n",
       "\n",
       "    .dataframe tbody tr th {\n",
       "        vertical-align: top;\n",
       "    }\n",
       "\n",
       "    .dataframe thead th {\n",
       "        text-align: right;\n",
       "    }\n",
       "</style>\n",
       "<table border=\"1\" class=\"dataframe\">\n",
       "  <thead>\n",
       "    <tr style=\"text-align: right;\">\n",
       "      <th></th>\n",
       "      <th>card</th>\n",
       "      <th>reports</th>\n",
       "      <th>age</th>\n",
       "      <th>income</th>\n",
       "      <th>share</th>\n",
       "      <th>expenditure</th>\n",
       "      <th>owner</th>\n",
       "      <th>selfemp</th>\n",
       "      <th>dependents</th>\n",
       "      <th>months</th>\n",
       "      <th>majorcards</th>\n",
       "      <th>active</th>\n",
       "    </tr>\n",
       "  </thead>\n",
       "  <tbody>\n",
       "    <tr>\n",
       "      <th>0</th>\n",
       "      <td>yes</td>\n",
       "      <td>0</td>\n",
       "      <td>37.66667</td>\n",
       "      <td>4.5200</td>\n",
       "      <td>0.033270</td>\n",
       "      <td>124.983300</td>\n",
       "      <td>yes</td>\n",
       "      <td>no</td>\n",
       "      <td>3</td>\n",
       "      <td>54</td>\n",
       "      <td>1</td>\n",
       "      <td>12</td>\n",
       "    </tr>\n",
       "    <tr>\n",
       "      <th>1</th>\n",
       "      <td>yes</td>\n",
       "      <td>0</td>\n",
       "      <td>33.25000</td>\n",
       "      <td>2.4200</td>\n",
       "      <td>0.005217</td>\n",
       "      <td>9.854167</td>\n",
       "      <td>no</td>\n",
       "      <td>no</td>\n",
       "      <td>3</td>\n",
       "      <td>34</td>\n",
       "      <td>1</td>\n",
       "      <td>13</td>\n",
       "    </tr>\n",
       "    <tr>\n",
       "      <th>2</th>\n",
       "      <td>yes</td>\n",
       "      <td>0</td>\n",
       "      <td>33.66667</td>\n",
       "      <td>4.5000</td>\n",
       "      <td>0.004156</td>\n",
       "      <td>15.000000</td>\n",
       "      <td>yes</td>\n",
       "      <td>no</td>\n",
       "      <td>4</td>\n",
       "      <td>58</td>\n",
       "      <td>1</td>\n",
       "      <td>5</td>\n",
       "    </tr>\n",
       "    <tr>\n",
       "      <th>3</th>\n",
       "      <td>yes</td>\n",
       "      <td>0</td>\n",
       "      <td>30.50000</td>\n",
       "      <td>2.5400</td>\n",
       "      <td>0.065214</td>\n",
       "      <td>137.869200</td>\n",
       "      <td>no</td>\n",
       "      <td>no</td>\n",
       "      <td>0</td>\n",
       "      <td>25</td>\n",
       "      <td>1</td>\n",
       "      <td>7</td>\n",
       "    </tr>\n",
       "    <tr>\n",
       "      <th>4</th>\n",
       "      <td>yes</td>\n",
       "      <td>0</td>\n",
       "      <td>32.16667</td>\n",
       "      <td>9.7867</td>\n",
       "      <td>0.067051</td>\n",
       "      <td>546.503300</td>\n",
       "      <td>yes</td>\n",
       "      <td>no</td>\n",
       "      <td>2</td>\n",
       "      <td>64</td>\n",
       "      <td>1</td>\n",
       "      <td>5</td>\n",
       "    </tr>\n",
       "  </tbody>\n",
       "</table>\n",
       "</div>"
      ],
      "text/plain": [
       "  card  reports       age  income     share  expenditure owner selfemp  \\\n",
       "0  yes        0  37.66667  4.5200  0.033270   124.983300   yes      no   \n",
       "1  yes        0  33.25000  2.4200  0.005217     9.854167    no      no   \n",
       "2  yes        0  33.66667  4.5000  0.004156    15.000000   yes      no   \n",
       "3  yes        0  30.50000  2.5400  0.065214   137.869200    no      no   \n",
       "4  yes        0  32.16667  9.7867  0.067051   546.503300   yes      no   \n",
       "\n",
       "   dependents  months  majorcards  active  \n",
       "0           3      54           1      12  \n",
       "1           3      34           1      13  \n",
       "2           4      58           1       5  \n",
       "3           0      25           1       7  \n",
       "4           2      64           1       5  "
      ]
     },
     "execution_count": 2,
     "metadata": {},
     "output_type": "execute_result"
    }
   ],
   "source": [
    "df=pd.read_csv('F:\\Project\\Credit_card.csv')\n",
    "df.head()"
   ]
  },
  {
   "cell_type": "markdown",
   "metadata": {},
   "source": [
    "#### Selection of featured attributes"
   ]
  },
  {
   "cell_type": "code",
   "execution_count": 3,
   "metadata": {},
   "outputs": [
    {
     "data": {
      "text/html": [
       "<div>\n",
       "<style scoped>\n",
       "    .dataframe tbody tr th:only-of-type {\n",
       "        vertical-align: middle;\n",
       "    }\n",
       "\n",
       "    .dataframe tbody tr th {\n",
       "        vertical-align: top;\n",
       "    }\n",
       "\n",
       "    .dataframe thead th {\n",
       "        text-align: right;\n",
       "    }\n",
       "</style>\n",
       "<table border=\"1\" class=\"dataframe\">\n",
       "  <thead>\n",
       "    <tr style=\"text-align: right;\">\n",
       "      <th></th>\n",
       "      <th>card</th>\n",
       "      <th>reports</th>\n",
       "      <th>age</th>\n",
       "      <th>share</th>\n",
       "      <th>income</th>\n",
       "    </tr>\n",
       "  </thead>\n",
       "  <tbody>\n",
       "    <tr>\n",
       "      <th>0</th>\n",
       "      <td>yes</td>\n",
       "      <td>0</td>\n",
       "      <td>37.66667</td>\n",
       "      <td>0.033270</td>\n",
       "      <td>4.5200</td>\n",
       "    </tr>\n",
       "    <tr>\n",
       "      <th>1</th>\n",
       "      <td>yes</td>\n",
       "      <td>0</td>\n",
       "      <td>33.25000</td>\n",
       "      <td>0.005217</td>\n",
       "      <td>2.4200</td>\n",
       "    </tr>\n",
       "    <tr>\n",
       "      <th>2</th>\n",
       "      <td>yes</td>\n",
       "      <td>0</td>\n",
       "      <td>33.66667</td>\n",
       "      <td>0.004156</td>\n",
       "      <td>4.5000</td>\n",
       "    </tr>\n",
       "    <tr>\n",
       "      <th>3</th>\n",
       "      <td>yes</td>\n",
       "      <td>0</td>\n",
       "      <td>30.50000</td>\n",
       "      <td>0.065214</td>\n",
       "      <td>2.5400</td>\n",
       "    </tr>\n",
       "    <tr>\n",
       "      <th>4</th>\n",
       "      <td>yes</td>\n",
       "      <td>0</td>\n",
       "      <td>32.16667</td>\n",
       "      <td>0.067051</td>\n",
       "      <td>9.7867</td>\n",
       "    </tr>\n",
       "  </tbody>\n",
       "</table>\n",
       "</div>"
      ],
      "text/plain": [
       "  card  reports       age     share  income\n",
       "0  yes        0  37.66667  0.033270  4.5200\n",
       "1  yes        0  33.25000  0.005217  2.4200\n",
       "2  yes        0  33.66667  0.004156  4.5000\n",
       "3  yes        0  30.50000  0.065214  2.5400\n",
       "4  yes        0  32.16667  0.067051  9.7867"
      ]
     },
     "execution_count": 3,
     "metadata": {},
     "output_type": "execute_result"
    }
   ],
   "source": [
    "#We dropped the \"expenditure\" attribute because expenditure of every card column(No) is \"0\".\n",
    "#So, mean and variance of \"No\" will be \"0\".No_posterior will be always zero.\n",
    "#That will cause a wrong prediction.\n",
    "cd=df[['card','reports','age','share','income']]\n",
    "cd.head()"
   ]
  },
  {
   "cell_type": "markdown",
   "metadata": {},
   "source": [
    "#### Encoding of Categorical Data"
   ]
  },
  {
   "cell_type": "code",
   "execution_count": 4,
   "metadata": {},
   "outputs": [
    {
     "name": "stderr",
     "output_type": "stream",
     "text": [
      "C:\\Users\\hp\\Anaconda3\\lib\\site-packages\\pandas\\core\\generic.py:5890: SettingWithCopyWarning: \n",
      "A value is trying to be set on a copy of a slice from a DataFrame\n",
      "\n",
      "See the caveats in the documentation: http://pandas.pydata.org/pandas-docs/stable/indexing.html#indexing-view-versus-copy\n",
      "  self._update_inplace(new_data)\n"
     ]
    },
    {
     "data": {
      "text/html": [
       "<div>\n",
       "<style scoped>\n",
       "    .dataframe tbody tr th:only-of-type {\n",
       "        vertical-align: middle;\n",
       "    }\n",
       "\n",
       "    .dataframe tbody tr th {\n",
       "        vertical-align: top;\n",
       "    }\n",
       "\n",
       "    .dataframe thead th {\n",
       "        text-align: right;\n",
       "    }\n",
       "</style>\n",
       "<table border=\"1\" class=\"dataframe\">\n",
       "  <thead>\n",
       "    <tr style=\"text-align: right;\">\n",
       "      <th></th>\n",
       "      <th>card</th>\n",
       "      <th>reports</th>\n",
       "      <th>age</th>\n",
       "      <th>share</th>\n",
       "      <th>income</th>\n",
       "    </tr>\n",
       "  </thead>\n",
       "  <tbody>\n",
       "    <tr>\n",
       "      <th>0</th>\n",
       "      <td>1</td>\n",
       "      <td>0</td>\n",
       "      <td>37.66667</td>\n",
       "      <td>0.033270</td>\n",
       "      <td>4.5200</td>\n",
       "    </tr>\n",
       "    <tr>\n",
       "      <th>1</th>\n",
       "      <td>1</td>\n",
       "      <td>0</td>\n",
       "      <td>33.25000</td>\n",
       "      <td>0.005217</td>\n",
       "      <td>2.4200</td>\n",
       "    </tr>\n",
       "    <tr>\n",
       "      <th>2</th>\n",
       "      <td>1</td>\n",
       "      <td>0</td>\n",
       "      <td>33.66667</td>\n",
       "      <td>0.004156</td>\n",
       "      <td>4.5000</td>\n",
       "    </tr>\n",
       "    <tr>\n",
       "      <th>3</th>\n",
       "      <td>1</td>\n",
       "      <td>0</td>\n",
       "      <td>30.50000</td>\n",
       "      <td>0.065214</td>\n",
       "      <td>2.5400</td>\n",
       "    </tr>\n",
       "    <tr>\n",
       "      <th>4</th>\n",
       "      <td>1</td>\n",
       "      <td>0</td>\n",
       "      <td>32.16667</td>\n",
       "      <td>0.067051</td>\n",
       "      <td>9.7867</td>\n",
       "    </tr>\n",
       "  </tbody>\n",
       "</table>\n",
       "</div>"
      ],
      "text/plain": [
       "  card  reports       age     share  income\n",
       "0    1        0  37.66667  0.033270  4.5200\n",
       "1    1        0  33.25000  0.005217  2.4200\n",
       "2    1        0  33.66667  0.004156  4.5000\n",
       "3    1        0  30.50000  0.065214  2.5400\n",
       "4    1        0  32.16667  0.067051  9.7867"
      ]
     },
     "execution_count": 4,
     "metadata": {},
     "output_type": "execute_result"
    }
   ],
   "source": [
    "cd.card.replace(['yes','no'], ['1', '0'], inplace=True)\n",
    "cd.head()"
   ]
  },
  {
   "cell_type": "markdown",
   "metadata": {},
   "source": [
    "#### Splitting of Dataset"
   ]
  },
  {
   "cell_type": "code",
   "execution_count": 5,
   "metadata": {},
   "outputs": [],
   "source": [
    "#Splitted the data in 7:3 ratio to x_train:x_test\n",
    "x_train,x_test,y_train,y_test=train_test_split(cd.drop('card',axis=1),cd['card'],test_size=0.3,random_state=10)"
   ]
  },
  {
   "cell_type": "markdown",
   "metadata": {},
   "source": [
    "#### Observation of Train and Test dataset"
   ]
  },
  {
   "cell_type": "code",
   "execution_count": 6,
   "metadata": {},
   "outputs": [
    {
     "name": "stdout",
     "output_type": "stream",
     "text": [
      "No. of observation for training dataset:  923\n",
      "No. of observation for test dataset:  396\n"
     ]
    }
   ],
   "source": [
    "print (\"No. of observation for training dataset: \",len(x_train))\n",
    "print (\"No. of observation for test dataset: \",len(x_test))"
   ]
  },
  {
   "cell_type": "code",
   "execution_count": 7,
   "metadata": {},
   "outputs": [],
   "source": [
    "#We added the \"card\" attribute to x_train so that we can operate group by to calculate mean and variance\n",
    "x_train['card']=y_train"
   ]
  },
  {
   "cell_type": "code",
   "execution_count": 8,
   "metadata": {},
   "outputs": [
    {
     "data": {
      "text/html": [
       "<div>\n",
       "<style scoped>\n",
       "    .dataframe tbody tr th:only-of-type {\n",
       "        vertical-align: middle;\n",
       "    }\n",
       "\n",
       "    .dataframe tbody tr th {\n",
       "        vertical-align: top;\n",
       "    }\n",
       "\n",
       "    .dataframe thead th {\n",
       "        text-align: right;\n",
       "    }\n",
       "</style>\n",
       "<table border=\"1\" class=\"dataframe\">\n",
       "  <thead>\n",
       "    <tr style=\"text-align: right;\">\n",
       "      <th></th>\n",
       "      <th>reports</th>\n",
       "      <th>age</th>\n",
       "      <th>share</th>\n",
       "      <th>income</th>\n",
       "    </tr>\n",
       "    <tr>\n",
       "      <th>card</th>\n",
       "      <th></th>\n",
       "      <th></th>\n",
       "      <th></th>\n",
       "      <th></th>\n",
       "    </tr>\n",
       "  </thead>\n",
       "  <tbody>\n",
       "    <tr>\n",
       "      <th>0</th>\n",
       "      <td>1.622010</td>\n",
       "      <td>33.202552</td>\n",
       "      <td>0.000484</td>\n",
       "      <td>3.055508</td>\n",
       "    </tr>\n",
       "    <tr>\n",
       "      <th>1</th>\n",
       "      <td>0.121849</td>\n",
       "      <td>33.341270</td>\n",
       "      <td>0.091884</td>\n",
       "      <td>3.428652</td>\n",
       "    </tr>\n",
       "  </tbody>\n",
       "</table>\n",
       "</div>"
      ],
      "text/plain": [
       "       reports        age     share    income\n",
       "card                                         \n",
       "0     1.622010  33.202552  0.000484  3.055508\n",
       "1     0.121849  33.341270  0.091884  3.428652"
      ]
     },
     "execution_count": 8,
     "metadata": {},
     "output_type": "execute_result"
    }
   ],
   "source": [
    "#Mean\n",
    "#Grouping on the basis of \"card\" column\n",
    "x_train_means = x_train.groupby(\"card\").mean()\n",
    "x_train_means"
   ]
  },
  {
   "cell_type": "code",
   "execution_count": 9,
   "metadata": {},
   "outputs": [
    {
     "data": {
      "text/html": [
       "<div>\n",
       "<style scoped>\n",
       "    .dataframe tbody tr th:only-of-type {\n",
       "        vertical-align: middle;\n",
       "    }\n",
       "\n",
       "    .dataframe tbody tr th {\n",
       "        vertical-align: top;\n",
       "    }\n",
       "\n",
       "    .dataframe thead th {\n",
       "        text-align: right;\n",
       "    }\n",
       "</style>\n",
       "<table border=\"1\" class=\"dataframe\">\n",
       "  <thead>\n",
       "    <tr style=\"text-align: right;\">\n",
       "      <th></th>\n",
       "      <th>reports</th>\n",
       "      <th>age</th>\n",
       "      <th>share</th>\n",
       "      <th>income</th>\n",
       "    </tr>\n",
       "    <tr>\n",
       "      <th>card</th>\n",
       "      <th></th>\n",
       "      <th></th>\n",
       "      <th></th>\n",
       "      <th></th>\n",
       "    </tr>\n",
       "  </thead>\n",
       "  <tbody>\n",
       "    <tr>\n",
       "      <th>0</th>\n",
       "      <td>6.005475</td>\n",
       "      <td>100.162036</td>\n",
       "      <td>5.241269e-08</td>\n",
       "      <td>2.721236</td>\n",
       "    </tr>\n",
       "    <tr>\n",
       "      <th>1</th>\n",
       "      <td>0.163253</td>\n",
       "      <td>108.301849</td>\n",
       "      <td>1.101195e-02</td>\n",
       "      <td>3.004883</td>\n",
       "    </tr>\n",
       "  </tbody>\n",
       "</table>\n",
       "</div>"
      ],
      "text/plain": [
       "       reports         age         share    income\n",
       "card                                              \n",
       "0     6.005475  100.162036  5.241269e-08  2.721236\n",
       "1     0.163253  108.301849  1.101195e-02  3.004883"
      ]
     },
     "execution_count": 9,
     "metadata": {},
     "output_type": "execute_result"
    }
   ],
   "source": [
    "#Variance\n",
    "#Grouping on the basis of \"card\" column\n",
    "x_train_var = x_train.groupby(\"card\").var()\n",
    "x_train_var"
   ]
  },
  {
   "cell_type": "markdown",
   "metadata": {},
   "source": [
    "#### Counting"
   ]
  },
  {
   "cell_type": "code",
   "execution_count": 10,
   "metadata": {},
   "outputs": [
    {
     "name": "stdout",
     "output_type": "stream",
     "text": [
      "No. of yes = 714,no = 209 and total = 923\n"
     ]
    }
   ],
   "source": [
    "n_yes = x_train['card'][x_train['card'] == '1'].count()\n",
    "n_no = x_train['card'][x_train['card'] == '0'].count()\n",
    "total = x_train['card'].count()\n",
    "print ('No. of yes = {},no = {} and total = {}'.format(n_yes,n_no,total))"
   ]
  },
  {
   "cell_type": "markdown",
   "metadata": {},
   "source": [
    "#### Prior values"
   ]
  },
  {
   "cell_type": "code",
   "execution_count": 11,
   "metadata": {},
   "outputs": [
    {
     "name": "stdout",
     "output_type": "stream",
     "text": [
      "Prior values are P(yes) = 0.7735644637053087 and p(no) = 0.22643553629469124\n"
     ]
    }
   ],
   "source": [
    "p_yes = n_yes/total\n",
    "p_no= n_no/total\n",
    "print(\"Prior values are P(yes) = {} and p(no) = {}\".format(p_yes,p_no))"
   ]
  },
  {
   "cell_type": "markdown",
   "metadata": {},
   "source": [
    "#### Mean"
   ]
  },
  {
   "cell_type": "code",
   "execution_count": 12,
   "metadata": {},
   "outputs": [
    {
     "name": "stdout",
     "output_type": "stream",
     "text": [
      "0.12184873949579832 33.34126979915964 0.09188381567086842 3.4286516806722664\n"
     ]
    }
   ],
   "source": [
    "#Mean of \"yes\" output in \"card\" column\n",
    "yes_reports_mean = x_train_means['reports'][x_train_means.index ==\"1\"].values[0]\n",
    "yes_age_mean = x_train_means['age'][x_train_means.index ==\"1\"].values[0]\n",
    "yes_share_mean = x_train_means['share'][x_train_means.index ==\"1\"].values[0]\n",
    "yes_inc_mean = x_train_means['income'][x_train_means.index ==\"1\"].values[0]\n",
    "print(yes_reports_mean,yes_age_mean,yes_share_mean,yes_inc_mean)"
   ]
  },
  {
   "cell_type": "code",
   "execution_count": 13,
   "metadata": {},
   "outputs": [
    {
     "name": "stdout",
     "output_type": "stream",
     "text": [
      "1.6220095693779903 33.20255186602873 0.0004839766985645932 3.055507655502396\n"
     ]
    }
   ],
   "source": [
    "#Mean of \"no\" output in \"card\" column\n",
    "no_reports_mean = x_train_means['reports'][x_train_means.index ==\"0\"].values[0]\n",
    "no_age_mean = x_train_means['age'][x_train_means.index ==\"0\"].values[0]\n",
    "no_share_mean = x_train_means['share'][x_train_means.index ==\"0\"].values[0]\n",
    "no_inc_mean = x_train_means['income'][x_train_means.index ==\"0\"].values[0]\n",
    "print(no_reports_mean,no_age_mean,no_share_mean,no_inc_mean)"
   ]
  },
  {
   "cell_type": "markdown",
   "metadata": {},
   "source": [
    "#### Variance"
   ]
  },
  {
   "cell_type": "code",
   "execution_count": 14,
   "metadata": {},
   "outputs": [
    {
     "name": "stdout",
     "output_type": "stream",
     "text": [
      "0.16325267835044258 108.30184895461142 0.011011952281867491 3.0048826922622505\n"
     ]
    }
   ],
   "source": [
    "#Variance of \"yes\" output in \"card\" column\n",
    "yes_reports_var = x_train_var['reports'][x_train_var.index ==\"1\"].values[0]\n",
    "yes_age_var = x_train_var['age'][x_train_var.index ==\"1\"].values[0]\n",
    "yes_share_var = x_train_var['share'][x_train_var.index ==\"1\"].values[0]\n",
    "yes_inc_var = x_train_var['income'][x_train_var.index ==\"1\"].values[0]\n",
    "print(yes_reports_var,yes_age_var,yes_share_var,yes_inc_var)"
   ]
  },
  {
   "cell_type": "code",
   "execution_count": 15,
   "metadata": {},
   "outputs": [
    {
     "name": "stdout",
     "output_type": "stream",
     "text": [
      "6.005474788369527 100.16203565005569 5.2412691228567346e-08 2.721236012633421\n"
     ]
    }
   ],
   "source": [
    "#Variance of \"no\" output in \"card\" column\n",
    "no_reports_var = x_train_var['reports'][x_train_var.index ==\"0\"].values[0]\n",
    "no_age_var = x_train_var['age'][x_train_var.index ==\"0\"].values[0]\n",
    "no_share_var = x_train_var['share'][x_train_var.index ==\"0\"].values[0]\n",
    "no_inc_var = x_train_var['income'][x_train_var.index ==\"0\"].values[0]\n",
    "print(no_reports_var,no_age_var,no_share_var,no_inc_var)"
   ]
  },
  {
   "cell_type": "markdown",
   "metadata": {},
   "source": [
    "#### Function"
   ]
  },
  {
   "cell_type": "code",
   "execution_count": 16,
   "metadata": {},
   "outputs": [],
   "source": [
    "# create a function that calculates p(x/y)\n",
    "def p_x_given_y(x,mean_y,variance_y):\n",
    "    #input the argument into a probability density function\n",
    "    p= 1/(np.sqrt(2*np.pi*variance_y))*np.exp((-(x-mean_y)**2)/(2*variance_y))\n",
    "    # returning the value in p\n",
    "    return p"
   ]
  },
  {
   "cell_type": "code",
   "execution_count": 17,
   "metadata": {},
   "outputs": [
    {
     "data": {
      "text/html": [
       "<div>\n",
       "<style scoped>\n",
       "    .dataframe tbody tr th:only-of-type {\n",
       "        vertical-align: middle;\n",
       "    }\n",
       "\n",
       "    .dataframe tbody tr th {\n",
       "        vertical-align: top;\n",
       "    }\n",
       "\n",
       "    .dataframe thead th {\n",
       "        text-align: right;\n",
       "    }\n",
       "</style>\n",
       "<table border=\"1\" class=\"dataframe\">\n",
       "  <thead>\n",
       "    <tr style=\"text-align: right;\">\n",
       "      <th></th>\n",
       "      <th>reports</th>\n",
       "      <th>age</th>\n",
       "      <th>share</th>\n",
       "      <th>income</th>\n",
       "    </tr>\n",
       "  </thead>\n",
       "  <tbody>\n",
       "  </tbody>\n",
       "</table>\n",
       "</div>"
      ],
      "text/plain": [
       "Empty DataFrame\n",
       "Columns: [reports, age, share, income]\n",
       "Index: []"
      ]
     },
     "execution_count": 17,
     "metadata": {},
     "output_type": "execute_result"
    }
   ],
   "source": [
    "col=['reports','age','share','income']\n",
    "user1=pd.DataFrame(columns=col)\n",
    "user1"
   ]
  },
  {
   "cell_type": "code",
   "execution_count": 18,
   "metadata": {},
   "outputs": [
    {
     "data": {
      "text/html": [
       "<div>\n",
       "<style scoped>\n",
       "    .dataframe tbody tr th:only-of-type {\n",
       "        vertical-align: middle;\n",
       "    }\n",
       "\n",
       "    .dataframe tbody tr th {\n",
       "        vertical-align: top;\n",
       "    }\n",
       "\n",
       "    .dataframe thead th {\n",
       "        text-align: right;\n",
       "    }\n",
       "</style>\n",
       "<table border=\"1\" class=\"dataframe\">\n",
       "  <thead>\n",
       "    <tr style=\"text-align: right;\">\n",
       "      <th></th>\n",
       "      <th>reports</th>\n",
       "      <th>age</th>\n",
       "      <th>share</th>\n",
       "      <th>income</th>\n",
       "    </tr>\n",
       "  </thead>\n",
       "  <tbody>\n",
       "    <tr>\n",
       "      <th>0</th>\n",
       "      <td>0</td>\n",
       "      <td>34.33333</td>\n",
       "      <td>0.474508</td>\n",
       "      <td>4.800</td>\n",
       "    </tr>\n",
       "    <tr>\n",
       "      <th>1</th>\n",
       "      <td>0</td>\n",
       "      <td>36.41667</td>\n",
       "      <td>0.011455</td>\n",
       "      <td>2.200</td>\n",
       "    </tr>\n",
       "    <tr>\n",
       "      <th>2</th>\n",
       "      <td>0</td>\n",
       "      <td>29.33333</td>\n",
       "      <td>0.000343</td>\n",
       "      <td>3.500</td>\n",
       "    </tr>\n",
       "    <tr>\n",
       "      <th>3</th>\n",
       "      <td>1</td>\n",
       "      <td>28.50000</td>\n",
       "      <td>0.000600</td>\n",
       "      <td>2.000</td>\n",
       "    </tr>\n",
       "    <tr>\n",
       "      <th>4</th>\n",
       "      <td>1</td>\n",
       "      <td>20.91667</td>\n",
       "      <td>0.000457</td>\n",
       "      <td>2.625</td>\n",
       "    </tr>\n",
       "  </tbody>\n",
       "</table>\n",
       "</div>"
      ],
      "text/plain": [
       "  reports       age     share  income\n",
       "0       0  34.33333  0.474508   4.800\n",
       "1       0  36.41667  0.011455   2.200\n",
       "2       0  29.33333  0.000343   3.500\n",
       "3       1  28.50000  0.000600   2.000\n",
       "4       1  20.91667  0.000457   2.625"
      ]
     },
     "execution_count": 18,
     "metadata": {},
     "output_type": "execute_result"
    }
   ],
   "source": [
    "#Re-indexing of x_test so that we can run a loop\n",
    "x_test=x_test.append(user1,ignore_index=True)\n",
    "x_test.head()"
   ]
  },
  {
   "cell_type": "code",
   "execution_count": 19,
   "metadata": {},
   "outputs": [
    {
     "data": {
      "text/plain": [
       "[]"
      ]
     },
     "execution_count": 19,
     "metadata": {},
     "output_type": "execute_result"
    }
   ],
   "source": [
    "# Creation of an list to store the predicted output\n",
    "preds=[]\n",
    "preds"
   ]
  },
  {
   "cell_type": "markdown",
   "metadata": {},
   "source": [
    "#### Calculation of Posterior values"
   ]
  },
  {
   "cell_type": "code",
   "execution_count": 20,
   "metadata": {},
   "outputs": [],
   "source": [
    "for i in range(396):\n",
    "    yes_posterior = p_yes * \\\n",
    "    p_x_given_y(x_test['reports'][i],yes_reports_mean,yes_reports_var)*\\\n",
    "    p_x_given_y(x_test['age'][i],yes_age_mean,yes_age_var)*\\\n",
    "    p_x_given_y(x_test['share'][i],yes_share_mean,yes_share_var)*\\\n",
    "    p_x_given_y(x_test['income'][i],yes_inc_mean,yes_inc_var)\n",
    "    \n",
    "    no_posterior = p_no * \\\n",
    "    p_x_given_y(x_test['reports'][i],no_reports_mean,no_reports_var)*\\\n",
    "    p_x_given_y(x_test['age'][i],no_age_mean,no_age_var)*\\\n",
    "    p_x_given_y(x_test['share'][i],no_share_mean,no_share_var)*\\\n",
    "    p_x_given_y(x_test['income'][i],no_inc_mean,no_inc_var)\n",
    "     \n",
    "    if (no_posterior > yes_posterior):\n",
    "        preds.append('0')\n",
    "    else:\n",
    "        preds.append('1')"
   ]
  },
  {
   "cell_type": "markdown",
   "metadata": {},
   "source": [
    "#### Predicted Array"
   ]
  },
  {
   "cell_type": "code",
   "execution_count": 21,
   "metadata": {},
   "outputs": [
    {
     "data": {
      "text/plain": [
       "array(['1', '1', '0', '0', '0', '0', '0', '0', '1', '1', '1', '1', '0',\n",
       "       '1', '1', '1', '1', '0', '1', '1', '1', '0', '0', '1', '1', '1',\n",
       "       '1', '1', '0', '1', '1', '1', '1', '1', '1', '1', '1', '1', '1',\n",
       "       '1', '1', '1', '1', '0', '1', '1', '1', '1', '1', '1', '1', '0',\n",
       "       '1', '1', '1', '0', '1', '0', '1', '1', '1', '0', '1', '1', '0',\n",
       "       '1', '1', '1', '1', '1', '0', '0', '1', '1', '1', '1', '1', '1',\n",
       "       '1', '1', '0', '0', '0', '1', '1', '0', '1', '1', '1', '1', '0',\n",
       "       '0', '1', '1', '0', '1', '0', '0', '1', '1', '0', '1', '1', '1',\n",
       "       '0', '0', '1', '1', '0', '1', '0', '1', '1', '1', '1', '1', '0',\n",
       "       '1', '0', '1', '1', '1', '1', '1', '1', '1', '1', '1', '1', '1',\n",
       "       '1', '1', '1', '1', '0', '1', '1', '1', '1', '0', '1', '0', '1',\n",
       "       '1', '1', '0', '0', '1', '1', '1', '0', '1', '1', '1', '0', '1',\n",
       "       '1', '1', '0', '1', '0', '0', '0', '0', '1', '1', '1', '1', '1',\n",
       "       '1', '1', '1', '0', '1', '1', '1', '1', '1', '1', '0', '1', '1',\n",
       "       '1', '1', '1', '1', '0', '1', '1', '1', '1', '1', '0', '1', '1',\n",
       "       '0', '1', '1', '0', '1', '1', '1', '1', '0', '1', '1', '1', '0',\n",
       "       '1', '0', '1', '0', '1', '1', '1', '1', '1', '1', '1', '0', '0',\n",
       "       '1', '1', '1', '1', '0', '1', '1', '1', '1', '0', '1', '1', '1',\n",
       "       '1', '1', '1', '1', '1', '0', '1', '1', '1', '1', '1', '0', '1',\n",
       "       '1', '1', '0', '1', '1', '1', '1', '1', '1', '1', '0', '1', '1',\n",
       "       '0', '0', '1', '0', '0', '1', '1', '1', '1', '1', '0', '0', '1',\n",
       "       '1', '1', '0', '1', '1', '1', '1', '1', '1', '0', '1', '1', '1',\n",
       "       '1', '0', '1', '0', '1', '1', '1', '1', '1', '1', '1', '1', '1',\n",
       "       '1', '1', '1', '1', '1', '1', '1', '1', '1', '1', '1', '1', '1',\n",
       "       '0', '1', '1', '0', '1', '1', '1', '1', '0', '1', '1', '1', '1',\n",
       "       '0', '1', '1', '1', '0', '1', '1', '1', '1', '1', '0', '0', '1',\n",
       "       '1', '1', '0', '1', '1', '1', '1', '1', '0', '1', '1', '1', '0',\n",
       "       '0', '0', '0', '1', '1', '1', '1', '1', '1', '1', '1', '1', '0',\n",
       "       '1', '1', '0', '0', '1', '1', '1', '1', '0', '0', '1', '0', '1',\n",
       "       '1', '0', '1', '1', '1', '1', '1', '0', '1', '1', '1', '1', '1',\n",
       "       '1', '1', '1', '1', '1', '1'], dtype='<U1')"
      ]
     },
     "execution_count": 21,
     "metadata": {},
     "output_type": "execute_result"
    }
   ],
   "source": [
    "preds=np.array(preds)\n",
    "preds"
   ]
  },
  {
   "cell_type": "markdown",
   "metadata": {},
   "source": [
    "#### Confusion Matrix"
   ]
  },
  {
   "cell_type": "code",
   "execution_count": 22,
   "metadata": {},
   "outputs": [
    {
     "data": {
      "text/html": [
       "<div>\n",
       "<style scoped>\n",
       "    .dataframe tbody tr th:only-of-type {\n",
       "        vertical-align: middle;\n",
       "    }\n",
       "\n",
       "    .dataframe tbody tr th {\n",
       "        vertical-align: top;\n",
       "    }\n",
       "\n",
       "    .dataframe thead th {\n",
       "        text-align: right;\n",
       "    }\n",
       "</style>\n",
       "<table border=\"1\" class=\"dataframe\">\n",
       "  <thead>\n",
       "    <tr style=\"text-align: right;\">\n",
       "      <th>Prediction Result</th>\n",
       "      <th>0</th>\n",
       "      <th>1</th>\n",
       "    </tr>\n",
       "    <tr>\n",
       "      <th>Actual Result</th>\n",
       "      <th></th>\n",
       "      <th></th>\n",
       "    </tr>\n",
       "  </thead>\n",
       "  <tbody>\n",
       "    <tr>\n",
       "      <th>0</th>\n",
       "      <td>87</td>\n",
       "      <td>0</td>\n",
       "    </tr>\n",
       "    <tr>\n",
       "      <th>1</th>\n",
       "      <td>9</td>\n",
       "      <td>300</td>\n",
       "    </tr>\n",
       "  </tbody>\n",
       "</table>\n",
       "</div>"
      ],
      "text/plain": [
       "Prediction Result   0    1\n",
       "Actual Result             \n",
       "0                  87    0\n",
       "1                   9  300"
      ]
     },
     "execution_count": 22,
     "metadata": {},
     "output_type": "execute_result"
    }
   ],
   "source": [
    "pd.crosstab(y_test,preds,rownames= [\"Actual Result\"],\n",
    "           colnames = [\"Prediction Result\"])"
   ]
  },
  {
   "cell_type": "markdown",
   "metadata": {},
   "source": [
    "#### Basic Evaluation Measures from the Confusion Matrix"
   ]
  },
  {
   "cell_type": "code",
   "execution_count": 23,
   "metadata": {},
   "outputs": [],
   "source": [
    "#A confusion matrix is formed from the four outcomes produced as a result of binary classification.\n",
    "#Four outcomes of classification\n",
    "#True positive (TP): correct positive prediction\n",
    "#False positive (FP): incorrect positive prediction\n",
    "#True negative (TN): correct negative prediction\n",
    "#False negative (FN): incorrect negative prediction\n",
    "#\n",
    "#                        Predicted\n",
    "#                        Positive    Negative\n",
    "#       Observed  Positive   TP          FN\n",
    "#                 Negative   FP          TN"
   ]
  },
  {
   "cell_type": "code",
   "execution_count": 24,
   "metadata": {},
   "outputs": [
    {
     "name": "stdout",
     "output_type": "stream",
     "text": [
      "Error rate: 0.022727272727272728\n"
     ]
    }
   ],
   "source": [
    "#Error rate\n",
    "#Error rate (ERR) is calculated as the number of all incorrect predictions divided by the total number of the dataset.\n",
    "#The best error rate is 0.0, whereas the worst is 1.0.\n",
    "#Error rate: (FP + FN)/(P + N)\n",
    "Err_rate = (9 + 0)/(87 + 309)\n",
    "print(\"Error rate: {}\".format(Err_rate) )"
   ]
  },
  {
   "cell_type": "code",
   "execution_count": 25,
   "metadata": {},
   "outputs": [
    {
     "name": "stdout",
     "output_type": "stream",
     "text": [
      "Accuracy : 0.9772727272727273\n"
     ]
    }
   ],
   "source": [
    "#Accuracy\n",
    "#Accuracy (ACC) is calculated as the number of all correct predictions divided by the total number of the dataset. \n",
    "#The best accuracy is 1.0, whereas the worst is 0.0. It can also be calculated by 1 – ERR.\n",
    "#Accuracy : (TP + TN)/(P + N)\n",
    "Acc = (87 + 300)/(87 + 309)\n",
    "print(\"Accuracy : {}\".format(Acc))"
   ]
  },
  {
   "cell_type": "code",
   "execution_count": 26,
   "metadata": {},
   "outputs": [
    {
     "name": "stdout",
     "output_type": "stream",
     "text": [
      "Sensitivity: 1.0\n"
     ]
    }
   ],
   "source": [
    "#Sensitivity (Recall or True positive rate)\n",
    "#Sensitivity (SN) is calculated as the number of correct positive predictions divided by the total number of positives. It is also called recall (REC) or true positive rate (TPR). \n",
    "#The best sensitivity is 1.0, whereas the worst is 0.0\n",
    "#Sensitivity = (TP)/(P)\n",
    "Sens = 87/87\n",
    "print(\"Sensitivity: {}\".format(Sens))"
   ]
  },
  {
   "cell_type": "code",
   "execution_count": 27,
   "metadata": {},
   "outputs": [
    {
     "name": "stdout",
     "output_type": "stream",
     "text": [
      "Specificity: 0.970873786407767\n"
     ]
    }
   ],
   "source": [
    "#Specificity (True negative rate)\n",
    "#Specificity (SP) is calculated as the number of correct negative predictions divided by the total number of negatives.\n",
    "#It is also called true negative rate (TNR).\n",
    "#The best specificity is 1.0, whereas the worst is 0.0.\n",
    "#Specificity = (TN)/(N)\n",
    "Spec = 300/309\n",
    "print(\"Specificity: {}\".format(Spec))"
   ]
  },
  {
   "cell_type": "code",
   "execution_count": 28,
   "metadata": {},
   "outputs": [
    {
     "name": "stdout",
     "output_type": "stream",
     "text": [
      "Precision: 0.90625\n"
     ]
    }
   ],
   "source": [
    "#Precision (Positive predictive value)\n",
    "#Precision (PREC) is calculated as the number of correct positive predictions divided by the total number of positive predictions. \n",
    "#It is also called positive predictive value (PPV).\n",
    "#The best precision is 1.0, whereas the worst is 0.0.\n",
    "#Precision = (TP)/(TP + FP)\n",
    "Precs = (87)/(96)\n",
    "print(\"Precision: {}\".format(Precs))"
   ]
  },
  {
   "cell_type": "code",
   "execution_count": 29,
   "metadata": {},
   "outputs": [
    {
     "name": "stdout",
     "output_type": "stream",
     "text": [
      "FPR : 0.02912621359223301\n"
     ]
    }
   ],
   "source": [
    "#False positive rate\n",
    "#False positive rate (FPR) is calculated as the number of incorrect positive predictions divided by the total number of negatives. \n",
    "#The best false positive rate is 0.0 whereas the worst is 1.0.\n",
    "#It can also be calculated as 1 – specificity.\n",
    "#FPR = (FP)/(N)\n",
    "FPR = 9/309\n",
    "print(\"FPR : {}\".format(FPR))"
   ]
  },
  {
   "cell_type": "code",
   "execution_count": null,
   "metadata": {},
   "outputs": [],
   "source": []
  },
  {
   "cell_type": "code",
   "execution_count": null,
   "metadata": {},
   "outputs": [],
   "source": []
  },
  {
   "cell_type": "code",
   "execution_count": null,
   "metadata": {},
   "outputs": [],
   "source": []
  }
 ],
 "metadata": {
  "kernelspec": {
   "display_name": "Python 3",
   "language": "python",
   "name": "python3"
  },
  "language_info": {
   "codemirror_mode": {
    "name": "ipython",
    "version": 3
   },
   "file_extension": ".py",
   "mimetype": "text/x-python",
   "name": "python",
   "nbconvert_exporter": "python",
   "pygments_lexer": "ipython3",
   "version": "3.7.1"
  }
 },
 "nbformat": 4,
 "nbformat_minor": 2
}
